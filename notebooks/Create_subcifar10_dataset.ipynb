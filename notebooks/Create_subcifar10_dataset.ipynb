{
 "cells": [
  {
   "cell_type": "markdown",
   "metadata": {},
   "source": [
    "# Sub cifar10 dataset\n",
    "This notebook creates a balanced subset of cifar 10 dataset, with 10 random samples for each class. \n",
    "\n",
    "The purpose of this dataset is to test an analyse the classification method proposed in Your Diffusion Model is Secretely a  Zero-Shot Classifier."
   ]
  },
  {
   "cell_type": "code",
   "execution_count": null,
   "metadata": {},
   "outputs": [],
   "source": [
    "# HF login\n",
    "from huggingface_hub import login\n",
    "\n",
    "# Replace 'your_huggingface_token' with the actual token you generated\n",
    "huggingface_token = \"\"\n",
    "\n",
    "# Login using the token\n",
    "login(token=huggingface_token)"
   ]
  },
  {
   "cell_type": "code",
   "execution_count": null,
   "metadata": {},
   "outputs": [],
   "source": [
    "from diffusion.utils import DATASET_ROOT\n",
    "from torchvision import datasets\n",
    "from collections import defaultdict\n",
    "import random\n",
    "\n",
    "# Load CIFAR\n",
    "c10 = datasets.CIFAR10(root=DATASET_ROOT, train=False, transform=None,\n",
    "                                   target_transform=None, download=True)\n",
    "\n",
    "# Initialize a dictionary to store indices by class\n",
    "class_indices = defaultdict(list)\n",
    "\n",
    "# Populate the dictionary with indices\n",
    "for idx, (_, target) in enumerate(c10):\n",
    "    class_indices[target].append(idx)\n",
    "\n",
    "# Set the number of examples per class\n",
    "examples_per_class = 100 // 10  # 10 classes in CIFAR-10\n",
    "\n",
    "# Sample indices from each class\n",
    "balanced_sample_indices = []\n",
    "for indices in class_indices.values():\n",
    "    balanced_sample_indices.extend(random.sample(indices, examples_per_class))\n",
    "\n",
    "# Retrieve the balanced sample\n",
    "balanced_sample = [c10[idx] for idx in balanced_sample_indices]"
   ]
  },
  {
   "cell_type": "code",
   "execution_count": null,
   "metadata": {},
   "outputs": [],
   "source": [
    "cifar10_class_dict = {\n",
    "    0: \"Airplane\",\n",
    "    1: \"Automobile\",\n",
    "    2: \"Bird\",\n",
    "    3: \"Cat\",\n",
    "    4: \"Deer\",\n",
    "    5: \"Dog\",\n",
    "    6: \"Frog\",\n",
    "    7: \"Horse\",\n",
    "    8: \"Ship\",\n",
    "    9: \"Truck\"\n",
    "}"
   ]
  },
  {
   "cell_type": "code",
   "execution_count": null,
   "metadata": {},
   "outputs": [],
   "source": [
    "for i in range(10):\n",
    "    class_examples = balanced_sample[10*i:10*(i+1)]\n",
    "    class_name = cifar10_class_dict[class_examples[0][1]]\n",
    "    print(f'Class: {class_name}')\n",
    "    display(image_grid([x[0].resize((128,128)) for x in class_examples], 1, examples_per_class))"
   ]
  },
  {
   "cell_type": "code",
   "execution_count": null,
   "metadata": {},
   "outputs": [],
   "source": [
    "import os\n",
    "import shutil\n",
    "#from torchvision.utils import save_image\n",
    "\n",
    "# Define the directory structure\n",
    "dataset_dir = 'sub_cifar10'\n",
    "if os.path.exists(dataset_dir):\n",
    "    shutil.rmtree(dataset_dir)\n",
    "os.makedirs(dataset_dir, exist_ok=True)\n",
    "\n",
    "for idx, (img, target) in enumerate(balanced_sample):\n",
    "    class_dir = os.path.join(dataset_dir, cifar10_class_dict[target])\n",
    "    os.makedirs(class_dir, exist_ok=True)\n",
    "    #save_image(img, os.path.join(class_dir, f'{idx}.png'))\n",
    "    img.save(os.path.join(class_dir, f'{idx}.png'))"
   ]
  },
  {
   "cell_type": "code",
   "execution_count": null,
   "metadata": {},
   "outputs": [],
   "source": [
    "from huggingface_hub import HfApi\n",
    "\n",
    "# Initialize the Hugging Face API\n",
    "api = HfApi()\n",
    "\n",
    "# Create a new dataset repository\n",
    "repo_name = \"sub-cifar10\"\n",
    "repo_url = api.create_repo(repo_name, repo_type=\"dataset\", exist_ok=True)\n",
    "\n",
    "print(f\"Dataset created at: {repo_url}\")"
   ]
  }
 ],
 "metadata": {
  "kernelspec": {
   "display_name": "annotated-transformer",
   "language": "python",
   "name": "python3"
  },
  "language_info": {
   "name": "python",
   "version": "3.11.4"
  }
 },
 "nbformat": 4,
 "nbformat_minor": 2
}
